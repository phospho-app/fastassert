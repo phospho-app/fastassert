{
 "cells": [
  {
   "cell_type": "markdown",
   "metadata": {},
   "source": [
    "# Performance comparision between FastAssert and the OpenAI API\n",
    "\n",
    "In this notebook, we are going to quantify the gains in term of latency of using FastAssert to generate structured JSON outputs comapred to OpenAI function calling. We will also check that we keep the same level of quality in term of JSON structure and JSON content.\n",
    "\n",
    "Cost are not covered as they depend on the setup to run FastAssert, but one can agree running FastAssert is cheaper than the OpenAI API by several orders of magnitude\n",
    "\n",
    "For the purpose of this demonstration, we will use OpenAI's own [function calling example](https://platform.openai.com/docs/api-reference/chat/create) (select `Function`on the right) : Text a user prompt asking for the current weather in a city, respond with a structured output containing the name of the city, and the guessed temperature unit in this zone."
   ]
  },
  {
   "cell_type": "code",
   "execution_count": 1,
   "metadata": {},
   "outputs": [
    {
     "name": "stdout",
     "output_type": "stream",
     "text": [
      "This demo will be runned on 15 examples\n"
     ]
    }
   ],
   "source": [
    "# The structure we are expecting\n",
    "json_obj = {\n",
    "  \"type\": \"object\",\n",
    "  \"properties\": {\n",
    "    \"location\": {\n",
    "      \"type\": \"string\",\n",
    "      \"description\": \"The city and state, e.g., San Francisco, CA\"\n",
    "    },\n",
    "    \"unit\": {\n",
    "      \"type\": \"string\",\n",
    "      \"enum\": [\"celsius\", \"fahrenheit\"],\n",
    "      \"description\": \"The temperature unit\"\n",
    "    }\n",
    "  },\n",
    "  \"required\": [\"location\", \"unit\"],\n",
    "  \"additionalProperties\": False\n",
    "}\n",
    "\n",
    "# A list of inputs to test the project, that will be formated in text prompts before being passed to the constrained LLMs\n",
    "# For notebook visibility purposes, we put them in a compact format\n",
    "inputs = [{\"location\": \"Paris\", \"unit\": \"celsius\"},{\"location\": \"Toronto\", \"unit\": \"fahrenheit\"}, {\"location\": \"Sydney\", \"unit\": \"celsius\"}, {\"location\": \"Berlin\", \"unit\": \"celsius\"}, {\"location\": \"Moscow\", \"unit\": \"celsius\"}, {\"location\": \"Rio de Janeiro\", \"unit\": \"celsius\"}, {\"location\": \"Mumbai\", \"unit\": \"celsius\"}, {\"location\": \"New York, NY\", \"unit\": \"fahrenheit\"}, {\"location\": \"London\", \"unit\": \"celsius\"}, {\"location\": \"Tokyo\", \"unit\": \"celsius\"}, {\"location\": \"Cairo\", \"unit\": \"celsius\"}, {\"location\": \"Los Angeles\", \"unit\": \"fahrenheit\"}, {\"location\": \"Beijing\", \"unit\": \"celsius\"}, {\"location\": \"Cape Town\", \"unit\": \"celsius\"}, {\"location\": \"Mexico City\", \"unit\": \"celsius\"}]\n",
    "print(f\"This demo will be runned on {len(inputs)} examples\")"
   ]
  },
  {
   "cell_type": "markdown",
   "metadata": {},
   "source": [
    "## Installation and Setup\n",
    "\n",
    "Make sure you are using the right kernel (`notebookenv`)"
   ]
  },
  {
   "cell_type": "code",
   "execution_count": 2,
   "metadata": {},
   "outputs": [
    {
     "name": "stdout",
     "output_type": "stream",
     "text": [
      "Requirement already satisfied: requests in /opt/conda/envs/notebookenv/lib/python3.11/site-packages (2.31.0)\n",
      "Collecting openai\n",
      "  Downloading openai-1.12.0-py3-none-any.whl.metadata (18 kB)\n",
      "Requirement already satisfied: charset-normalizer<4,>=2 in /opt/conda/envs/notebookenv/lib/python3.11/site-packages (from requests) (3.3.2)\n",
      "Requirement already satisfied: idna<4,>=2.5 in /opt/conda/envs/notebookenv/lib/python3.11/site-packages (from requests) (3.6)\n",
      "Requirement already satisfied: urllib3<3,>=1.21.1 in /opt/conda/envs/notebookenv/lib/python3.11/site-packages (from requests) (2.2.0)\n",
      "Requirement already satisfied: certifi>=2017.4.17 in /opt/conda/envs/notebookenv/lib/python3.11/site-packages (from requests) (2024.2.2)\n",
      "Requirement already satisfied: anyio<5,>=3.5.0 in /opt/conda/envs/notebookenv/lib/python3.11/site-packages (from openai) (4.2.0)\n",
      "Collecting distro<2,>=1.7.0 (from openai)\n",
      "  Downloading distro-1.9.0-py3-none-any.whl.metadata (6.8 kB)\n",
      "Requirement already satisfied: httpx<1,>=0.23.0 in /opt/conda/envs/notebookenv/lib/python3.11/site-packages (from openai) (0.26.0)\n",
      "Collecting pydantic<3,>=1.9.0 (from openai)\n",
      "  Downloading pydantic-2.6.1-py3-none-any.whl.metadata (83 kB)\n",
      "\u001b[2K     \u001b[90m━━━━━━━━━━━━━━━━━━━━━━━━━━━━━━━━━━━━━━━━\u001b[0m \u001b[32m83.5/83.5 kB\u001b[0m \u001b[31m3.5 MB/s\u001b[0m eta \u001b[36m0:00:00\u001b[0m\n",
      "\u001b[?25hRequirement already satisfied: sniffio in /opt/conda/envs/notebookenv/lib/python3.11/site-packages (from openai) (1.3.0)\n",
      "Collecting tqdm>4 (from openai)\n",
      "  Downloading tqdm-4.66.2-py3-none-any.whl.metadata (57 kB)\n",
      "\u001b[2K     \u001b[90m━━━━━━━━━━━━━━━━━━━━━━━━━━━━━━━━━━━━━━━━\u001b[0m \u001b[32m57.6/57.6 kB\u001b[0m \u001b[31m8.9 MB/s\u001b[0m eta \u001b[36m0:00:00\u001b[0m\n",
      "\u001b[?25hRequirement already satisfied: typing-extensions<5,>=4.7 in /opt/conda/envs/notebookenv/lib/python3.11/site-packages (from openai) (4.9.0)\n",
      "Requirement already satisfied: httpcore==1.* in /opt/conda/envs/notebookenv/lib/python3.11/site-packages (from httpx<1,>=0.23.0->openai) (1.0.3)\n",
      "Requirement already satisfied: h11<0.15,>=0.13 in /opt/conda/envs/notebookenv/lib/python3.11/site-packages (from httpcore==1.*->httpx<1,>=0.23.0->openai) (0.14.0)\n",
      "Collecting annotated-types>=0.4.0 (from pydantic<3,>=1.9.0->openai)\n",
      "  Downloading annotated_types-0.6.0-py3-none-any.whl.metadata (12 kB)\n",
      "Collecting pydantic-core==2.16.2 (from pydantic<3,>=1.9.0->openai)\n",
      "  Downloading pydantic_core-2.16.2-cp311-cp311-manylinux_2_17_x86_64.manylinux2014_x86_64.whl.metadata (6.5 kB)\n",
      "Downloading openai-1.12.0-py3-none-any.whl (226 kB)\n",
      "\u001b[2K   \u001b[90m━━━━━━━━━━━━━━━━━━━━━━━━━━━━━━━━━━━━━━━━\u001b[0m \u001b[32m226.7/226.7 kB\u001b[0m \u001b[31m7.4 MB/s\u001b[0m eta \u001b[36m0:00:00\u001b[0m\n",
      "\u001b[?25hDownloading distro-1.9.0-py3-none-any.whl (20 kB)\n",
      "Downloading pydantic-2.6.1-py3-none-any.whl (394 kB)\n",
      "\u001b[2K   \u001b[90m━━━━━━━━━━━━━━━━━━━━━━━━━━━━━━━━━━━━━━━━\u001b[0m \u001b[32m394.8/394.8 kB\u001b[0m \u001b[31m20.8 MB/s\u001b[0m eta \u001b[36m0:00:00\u001b[0m\n",
      "\u001b[?25hDownloading pydantic_core-2.16.2-cp311-cp311-manylinux_2_17_x86_64.manylinux2014_x86_64.whl (2.2 MB)\n",
      "\u001b[2K   \u001b[90m━━━━━━━━━━━━━━━━━━━━━━━━━━━━━━━━━━━━━━━━\u001b[0m \u001b[32m2.2/2.2 MB\u001b[0m \u001b[31m72.2 MB/s\u001b[0m eta \u001b[36m0:00:00\u001b[0m\n",
      "\u001b[?25hDownloading tqdm-4.66.2-py3-none-any.whl (78 kB)\n",
      "\u001b[2K   \u001b[90m━━━━━━━━━━━━━━━━━━━━━━━━━━━━━━━━━━━━━━━━\u001b[0m \u001b[32m78.3/78.3 kB\u001b[0m \u001b[31m15.0 MB/s\u001b[0m eta \u001b[36m0:00:00\u001b[0m\n",
      "\u001b[?25hDownloading annotated_types-0.6.0-py3-none-any.whl (12 kB)\n",
      "Installing collected packages: tqdm, pydantic-core, distro, annotated-types, pydantic, openai\n",
      "Successfully installed annotated-types-0.6.0 distro-1.9.0 openai-1.12.0 pydantic-2.6.1 pydantic-core-2.16.2 tqdm-4.66.2\n"
     ]
    }
   ],
   "source": [
    "!pip install requests openai"
   ]
  },
  {
   "cell_type": "code",
   "execution_count": 3,
   "metadata": {},
   "outputs": [],
   "source": [
    "import os\n",
    "\n",
    "# Setup the OpenAI client\n",
    "from openai import OpenAI\n",
    "\n",
    "client = OpenAI(\n",
    "    # This is the default and can be omitted\n",
    "    api_key=os.environ.get(\"OPENAI_API_KEY\"),\n",
    ")\n",
    "\n",
    "# Create the function to generate structured output using OpenAI\n",
    "def openai_constrained_generation(prompt: str, json_schema, model_name=\"gpt-3.5-turbo\"):\n",
    "\n",
    "    tools = [\n",
    "      {\n",
    "        \"type\": \"function\",\n",
    "        \"function\": {\n",
    "          \"name\": \"get_current_weather\",\n",
    "          \"description\": \"Get the current weather in a given location\",\n",
    "          \"parameters\": json_obj,\n",
    "        }\n",
    "      }\n",
    "    ]\n",
    "    messages = [{\"role\": \"user\", \"content\": \"What's the weather like in Boston today?\"}]\n",
    "    completion = client.chat.completions.create(\n",
    "      model=model_name,\n",
    "      messages=messages,\n",
    "      tools=tools,\n",
    "      tool_choice={\"type\": \"function\", \"function\": {\"name\": \"get_current_weather\"}}\n",
    "    )\n",
    "\n",
    "    return completion.choices[0].message.tool_calls[0].function.arguments"
   ]
  },
  {
   "cell_type": "code",
   "execution_count": 5,
   "metadata": {},
   "outputs": [
    {
     "data": {
      "text/plain": [
       "'{\\n  \"location\": \"Boston, MA\",\\n  \"unit\": \"celsius\"\\n}'"
      ]
     },
     "execution_count": 5,
     "metadata": {},
     "output_type": "execute_result"
    }
   ],
   "source": [
    "openai_constrained_generation(\"What's the weather like in Boston today?\", json_obj)"
   ]
  },
  {
   "cell_type": "markdown",
   "metadata": {},
   "source": [
    "## Connect and test our FastAssert server\n",
    "Make sure the docker container is running and can serve requests."
   ]
  },
  {
   "cell_type": "code",
   "execution_count": 6,
   "metadata": {},
   "outputs": [
    {
     "name": "stdout",
     "output_type": "stream",
     "text": [
      "Server is up and running!\n"
     ]
    }
   ],
   "source": [
    "import requests\n",
    "import time\n",
    "\n",
    "BASE_URL = \"http://127.0.0.1:8000\"\n",
    "\n",
    "# Ping the server\n",
    "ping_response = requests.get(f\"{BASE_URL}/health\")\n",
    "\n",
    "# Check if the request was successful\n",
    "if ping_response.status_code == 200:\n",
    "    print(\"Server is up and running!\")\n",
    "else:\n",
    "    raise ValueError(f\"Failed to reach the server, status code: {ping_response.status_code}\")"
   ]
  },
  {
   "cell_type": "code",
   "execution_count": 16,
   "metadata": {},
   "outputs": [],
   "source": [
    "# Create the test \n",
    "def constrained_generation(prompt: str, json_schema):\n",
    "\n",
    "    url = f\"{BASE_URL}/generate\"\n",
    "    payload = {\n",
    "        \"prompt\": prompt,\n",
    "        \"schema\": json_schema,\n",
    "        \"temperature\": 0\n",
    "    }\n",
    "\n",
    "    response = requests.post(url, json=payload)\n",
    "\n",
    "    return response.text\n",
    "\n",
    "def time_constrained_generation(prompt: str, json_schema):\n",
    "\n",
    "    start_time = time.time()\n",
    "    constrained_generation(prompt, json_schema)\n",
    "    end_time = time.time()\n",
    "\n",
    "    return end_time - start_time"
   ]
  },
  {
   "cell_type": "code",
   "execution_count": 10,
   "metadata": {},
   "outputs": [
    {
     "data": {
      "text/plain": [
       "'{\"text\":[\"What\\'s the weather like in Boston today? Respond with the city name and the temperature unit used in this zone.{ \\\\\"location\\\\\": \\\\\"Boston\\\\\", \\\\\"unit\\\\\": \\\\\"fahrenheit\\\\\"\"]}'"
      ]
     },
     "execution_count": 10,
     "metadata": {},
     "output_type": "execute_result"
    }
   ],
   "source": [
    "# Let's try our FastAssert server\n",
    "constrained_generation(\"What's the weather like in Boston today? Respond with the city name and the temperature unit used in this zone.\", json_obj)"
   ]
  },
  {
   "cell_type": "markdown",
   "metadata": {},
   "source": [
    "## Let's benchmark the two methods\n",
    "\n",
    "We will run on the input list 3 constrained generation models :\n",
    "- OpenAI `gpt-3.5-turbo` with function call\n",
    "- OpenAI `gpt-4` with function call\n",
    "- our FastAssert server running a constrained `Mistral-7B-v0.2`\n",
    "\n",
    "### Running the models"
   ]
  },
  {
   "cell_type": "code",
   "execution_count": 29,
   "metadata": {},
   "outputs": [],
   "source": [
    "openai_gpt3_5_times = []\n",
    "openai_gpt4_times = []\n",
    "fastassert_times = []\n",
    "\n",
    "openai_gpt3_5_answers = []\n",
    "openai_gpt4_answers = []\n",
    "fastassert_answers = []\n",
    "\n",
    "for row in inputs:\n",
    "    # Time OpenAI gpt-3.5-turbo\n",
    "    start_time = time.time()\n",
    "    answer = openai_constrained_generation(f\"What's the weather like in {row.get('location')} today? Respond with the city name and the temperature unit used in this zone. Temperature unit can only be celsius or fahrenheit. For example, a valid response is \" + '{\"location\": \"Paris\",\"unit\":\"celsius\"}',\n",
    "                                           json_obj)\n",
    "    end_time = time.time()\n",
    "    openai_gpt3_5_answers.append(answer)\n",
    "    openai_gpt3_5_times.append(end_time - start_time)\n",
    "\n",
    "    # Time OpenAI gpt-4\n",
    "    start_time = time.time()\n",
    "    answer = openai_constrained_generation(f\"What's the weather like in {row.get('location')} today? Respond with the city name and the temperature unit used in this zone. Temperature unit can only be celsius or fahrenheit. For example, a valid response is \" + '{\"location\": \"Paris\",\"unit\":\"celsius\"}',\n",
    "                                           json_obj, model_name=\"gpt-4\")\n",
    "    end_time = time.time()\n",
    "    openai_gpt4_answers.append(answer)\n",
    "    openai_gpt4_times.append(end_time - start_time)\n",
    "\n",
    "    # Time FastAssert\n",
    "    start_time = time.time()\n",
    "    answer = constrained_generation(f\"What's the weather like in {row.get('location')} today? Respond with the city name and the temperature unit used in this zone. Temperature unit can only be celsius or fahrenheit. For example, a valid response is \" + '{\"location\": \"Paris\",\"unit\":\"celsius\"}', \n",
    "                                    json_obj)\n",
    "    end_time = time.time()\n",
    "    fastassert_answers.append(answer)\n",
    "    fastassert_times.append(end_time - start_time)"
   ]
  },
  {
   "cell_type": "markdown",
   "metadata": {},
   "source": [
    "### Assessing the results\n",
    "\n",
    "#### Latency"
   ]
  },
  {
   "cell_type": "code",
   "execution_count": 26,
   "metadata": {},
   "outputs": [
    {
     "name": "stdout",
     "output_type": "stream",
     "text": [
      "Collecting matplotlib\n",
      "  Downloading matplotlib-3.8.3-cp311-cp311-manylinux_2_17_x86_64.manylinux2014_x86_64.whl.metadata (5.8 kB)\n",
      "Collecting numpy\n",
      "  Downloading numpy-1.26.4-cp311-cp311-manylinux_2_17_x86_64.manylinux2014_x86_64.whl.metadata (61 kB)\n",
      "\u001b[2K     \u001b[90m━━━━━━━━━━━━━━━━━━━━━━━━━━━━━━━━━━━━━━━━\u001b[0m \u001b[32m61.0/61.0 kB\u001b[0m \u001b[31m2.7 MB/s\u001b[0m eta \u001b[36m0:00:00\u001b[0m\n",
      "\u001b[?25hCollecting contourpy>=1.0.1 (from matplotlib)\n",
      "  Downloading contourpy-1.2.0-cp311-cp311-manylinux_2_17_x86_64.manylinux2014_x86_64.whl.metadata (5.8 kB)\n",
      "Collecting cycler>=0.10 (from matplotlib)\n",
      "  Downloading cycler-0.12.1-py3-none-any.whl.metadata (3.8 kB)\n",
      "Collecting fonttools>=4.22.0 (from matplotlib)\n",
      "  Downloading fonttools-4.49.0-cp311-cp311-manylinux_2_17_x86_64.manylinux2014_x86_64.whl.metadata (159 kB)\n",
      "\u001b[2K     \u001b[90m━━━━━━━━━━━━━━━━━━━━━━━━━━━━━━━━━━━━━━━\u001b[0m \u001b[32m159.1/159.1 kB\u001b[0m \u001b[31m7.7 MB/s\u001b[0m eta \u001b[36m0:00:00\u001b[0m\n",
      "\u001b[?25hCollecting kiwisolver>=1.3.1 (from matplotlib)\n",
      "  Downloading kiwisolver-1.4.5-cp311-cp311-manylinux_2_17_x86_64.manylinux2014_x86_64.whl.metadata (6.4 kB)\n",
      "Requirement already satisfied: packaging>=20.0 in /opt/conda/envs/notebookenv/lib/python3.11/site-packages (from matplotlib) (23.2)\n",
      "Collecting pillow>=8 (from matplotlib)\n",
      "  Downloading pillow-10.2.0-cp311-cp311-manylinux_2_28_x86_64.whl.metadata (9.7 kB)\n",
      "Collecting pyparsing>=2.3.1 (from matplotlib)\n",
      "  Downloading pyparsing-3.1.1-py3-none-any.whl.metadata (5.1 kB)\n",
      "Requirement already satisfied: python-dateutil>=2.7 in /opt/conda/envs/notebookenv/lib/python3.11/site-packages (from matplotlib) (2.8.2)\n",
      "Requirement already satisfied: six>=1.5 in /opt/conda/envs/notebookenv/lib/python3.11/site-packages (from python-dateutil>=2.7->matplotlib) (1.16.0)\n",
      "Downloading matplotlib-3.8.3-cp311-cp311-manylinux_2_17_x86_64.manylinux2014_x86_64.whl (11.6 MB)\n",
      "\u001b[2K   \u001b[90m━━━━━━━━━━━━━━━━━━━━━━━━━━━━━━━━━━━━━━━━\u001b[0m \u001b[32m11.6/11.6 MB\u001b[0m \u001b[31m91.2 MB/s\u001b[0m eta \u001b[36m0:00:00\u001b[0m:00:01\u001b[0m00:01\u001b[0m\n",
      "\u001b[?25hDownloading numpy-1.26.4-cp311-cp311-manylinux_2_17_x86_64.manylinux2014_x86_64.whl (18.3 MB)\n",
      "\u001b[2K   \u001b[90m━━━━━━━━━━━━━━━━━━━━━━━━━━━━━━━━━━━━━━━━\u001b[0m \u001b[32m18.3/18.3 MB\u001b[0m \u001b[31m102.9 MB/s\u001b[0m eta \u001b[36m0:00:00\u001b[0m00:01\u001b[0m00:01\u001b[0m\n",
      "\u001b[?25hDownloading contourpy-1.2.0-cp311-cp311-manylinux_2_17_x86_64.manylinux2014_x86_64.whl (313 kB)\n",
      "\u001b[2K   \u001b[90m━━━━━━━━━━━━━━━━━━━━━━━━━━━━━━━━━━━━━━━━\u001b[0m \u001b[32m313.4/313.4 kB\u001b[0m \u001b[31m42.3 MB/s\u001b[0m eta \u001b[36m0:00:00\u001b[0m\n",
      "\u001b[?25hDownloading cycler-0.12.1-py3-none-any.whl (8.3 kB)\n",
      "Downloading fonttools-4.49.0-cp311-cp311-manylinux_2_17_x86_64.manylinux2014_x86_64.whl (4.9 MB)\n",
      "\u001b[2K   \u001b[90m━━━━━━━━━━━━━━━━━━━━━━━━━━━━━━━━━━━━━━━━\u001b[0m \u001b[32m4.9/4.9 MB\u001b[0m \u001b[31m72.4 MB/s\u001b[0m eta \u001b[36m0:00:00\u001b[0mta \u001b[36m0:00:01\u001b[0m\n",
      "\u001b[?25hDownloading kiwisolver-1.4.5-cp311-cp311-manylinux_2_17_x86_64.manylinux2014_x86_64.whl (1.4 MB)\n",
      "\u001b[2K   \u001b[90m━━━━━━━━━━━━━━━━━━━━━━━━━━━━━━━━━━━━━━━━\u001b[0m \u001b[32m1.4/1.4 MB\u001b[0m \u001b[31m102.1 MB/s\u001b[0m eta \u001b[36m0:00:00\u001b[0m\n",
      "\u001b[?25hDownloading pillow-10.2.0-cp311-cp311-manylinux_2_28_x86_64.whl (4.5 MB)\n",
      "\u001b[2K   \u001b[90m━━━━━━━━━━━━━━━━━━━━━━━━━━━━━━━━━━━━━━━━\u001b[0m \u001b[32m4.5/4.5 MB\u001b[0m \u001b[31m69.6 MB/s\u001b[0m eta \u001b[36m0:00:00\u001b[0mta \u001b[36m0:00:01\u001b[0m\n",
      "\u001b[?25hDownloading pyparsing-3.1.1-py3-none-any.whl (103 kB)\n",
      "\u001b[2K   \u001b[90m━━━━━━━━━━━━━━━━━━━━━━━━━━━━━━━━━━━━━━━━\u001b[0m \u001b[32m103.1/103.1 kB\u001b[0m \u001b[31m19.7 MB/s\u001b[0m eta \u001b[36m0:00:00\u001b[0m\n",
      "\u001b[?25hInstalling collected packages: pyparsing, pillow, numpy, kiwisolver, fonttools, cycler, contourpy, matplotlib\n",
      "Successfully installed contourpy-1.2.0 cycler-0.12.1 fonttools-4.49.0 kiwisolver-1.4.5 matplotlib-3.8.3 numpy-1.26.4 pillow-10.2.0 pyparsing-3.1.1\n"
     ]
    }
   ],
   "source": [
    "!pip install matplotlib numpy"
   ]
  },
  {
   "cell_type": "code",
   "execution_count": 27,
   "metadata": {},
   "outputs": [
    {
     "name": "stdout",
     "output_type": "stream",
     "text": [
      "Completion times:\n",
      "OpenAI GPT-3.5 Mean: 0.6997732957204182 s, Standard Deviation: 0.2690271101445589\n",
      "OpenAI GPT-4 Mean: 1.3391000906626382 s, Standard Deviation: 0.3125585530238633\n",
      "FastAssert Mean: 0.2766311963399251 s, Standard Deviation: 0.012631002864763935\n"
     ]
    }
   ],
   "source": [
    "import statistics\n",
    "\n",
    "# Assuming inputs are defined and the above loop code has been executed\n",
    "\n",
    "# Calculate mean and standard deviation for OpenAI GPT-3.5 times\n",
    "mean_gpt3_5 = statistics.mean(openai_gpt3_5_times)\n",
    "std_dev_gpt3_5 = statistics.stdev(openai_gpt3_5_times)\n",
    "\n",
    "# Calculate mean and standard deviation for OpenAI GPT-4 times\n",
    "mean_gpt4 = statistics.mean(openai_gpt4_times)\n",
    "std_dev_gpt4 = statistics.stdev(openai_gpt4_times)\n",
    "\n",
    "# Calculate mean and standard deviation for FastAssert times\n",
    "mean_fastassert = statistics.mean(fastassert_times)\n",
    "std_dev_fastassert = statistics.stdev(fastassert_times)\n",
    "\n",
    "# Print the results\n",
    "print(\"Completion times:\")\n",
    "print(f\"OpenAI GPT-3.5 Mean: {mean_gpt3_5} s, Standard Deviation: {std_dev_gpt3_5}\")\n",
    "print(f\"OpenAI GPT-4 Mean: {mean_gpt4} s, Standard Deviation: {std_dev_gpt4}\")\n",
    "print(f\"FastAssert Mean: {mean_fastassert} s, Standard Deviation: {std_dev_fastassert}\")"
   ]
  },
  {
   "cell_type": "code",
   "execution_count": 28,
   "metadata": {},
   "outputs": [
    {
     "data": {
      "text/plain": [
       "<matplotlib.legend.Legend at 0x7fb9c53969d0>"
      ]
     },
     "execution_count": 28,
     "metadata": {},
     "output_type": "execute_result"
    },
    {
     "data": {
      "image/png": "[encoded data removed]",
      "text/plain": [
       "<Figure size 640x480 with 1 Axes>"
      ]
     },
     "metadata": {},
     "output_type": "display_data"
    }
   ],
   "source": [
    "import matplotlib.pyplot as plt\n",
    "import numpy as np\n",
    "\n",
    "# Data\n",
    "labels = ['GPT-3.5', 'GPT-4', 'FastAssert']\n",
    "means = [np.mean(openai_gpt3_5_times), np.mean(openai_gpt4_times), np.mean(fastassert_times)]\n",
    "std_devs = [np.std(openai_gpt3_5_times), np.std(openai_gpt4_times), np.std(fastassert_times)]\n",
    "\n",
    "x = np.arange(len(labels))  # the label locations\n",
    "width = 0.35  # the width of the bars\n",
    "\n",
    "fig, ax = plt.subplots()\n",
    "rects1 = ax.bar(x - width/2, means, width, label='Mean', yerr=std_devs, capsize=5)\n",
    "\n",
    "# Add some text for labels, title and custom x-axis tick labels, etc.\n",
    "ax.set_ylabel('Times in seconds')\n",
    "ax.set_title('Completion times by model and metric')\n",
    "ax.set_xticks(x)\n",
    "ax.set_xticklabels(labels)\n",
    "ax.legend()"
   ]
  },
  {
   "cell_type": "markdown",
   "metadata": {},
   "source": [
    "#### Validation errors"
   ]
  },
  {
   "cell_type": "code",
   "execution_count": 44,
   "metadata": {},
   "outputs": [],
   "source": [
    "import json\n",
    "from jsonschema import validate, ValidationError\n",
    "\n",
    "def validate_openai_json(text, schema):\n",
    "    # Step 1: Unescape the string\n",
    "    # Decode the escaped string to get the actual JSON string\n",
    "    json_string = text.replace(r'\\n', '')\n",
    "    \n",
    "    # Step 2: Parse the JSON string into a Python dictionary\n",
    "    json_obj = json.loads(json_string)\n",
    "\n",
    "    # Step 3: Validate the JSON object against the schema\n",
    "    try:\n",
    "        validate(instance=json_obj, schema=schema)\n",
    "        return True\n",
    "    except ValidationError as e:\n",
    "        return False\n",
    "\n",
    "def validate_fastassert_json(text, schema):\n",
    "    # Step 1: Unescape the string\n",
    "    # Decode the escaped string to get the actual JSON string\n",
    "    json_string = text.replace(r'\\\\\"', '\"')\n",
    "    \n",
    "    # Step 2: Parse the JSON string into a Python dictionary\n",
    "    json_obj = json.loads(json_string)\n",
    "\n",
    "    # Step 3: Validate the JSON object against the schema\n",
    "    try:\n",
    "        validate(instance=json_obj, schema=schema)\n",
    "        return True\n",
    "    except ValidationError as e:\n",
    "        return False\n"
   ]
  },
  {
   "cell_type": "code",
   "execution_count": null,
   "metadata": {},
   "outputs": [],
   "source": [
    "openai_gpt3_5_validations = []\n",
    "\n",
    "for answer in openai_gpt3_5_answers:\n",
    "    "
   ]
  },
  {
   "cell_type": "code",
   "execution_count": 39,
   "metadata": {},
   "outputs": [
    {
     "data": {
      "text/plain": [
       "['{\\n  \"location\": \"Boston, MA\",\\n  \"unit\": \"fahrenheit\"\\n}',\n",
       " '{\\n  \"location\": \"Boston, MA\",\\n  \"unit\": \"fahrenheit\"\\n}',\n",
       " '{\\n  \"location\": \"Boston, MA\",\\n  \"unit\": \"fahrenheit\"\\n}',\n",
       " '{\\n  \"location\": \"Boston, MA\",\\n  \"unit\": \"fahrenheit\"\\n}',\n",
       " '{\\n  \"location\": \"Boston, MA\",\\n  \"unit\": \"fahrenheit\"\\n}',\n",
       " '{\\n  \"location\": \"Boston, MA\",\\n  \"unit\": \"fahrenheit\"\\n}',\n",
       " '{\\n  \"location\": \"Boston, MA\",\\n  \"unit\": \"fahrenheit\"\\n}',\n",
       " '{\\n  \"location\": \"Boston, MA\",\\n  \"unit\": \"fahrenheit\"\\n}',\n",
       " '{\\n  \"location\": \"Boston, MA\",\\n  \"unit\": \"fahrenheit\"\\n}',\n",
       " '{\\n  \"location\": \"Boston, MA\",\\n  \"unit\": \"fahrenheit\"\\n}',\n",
       " '{\\n  \"location\": \"Boston, MA\",\\n  \"unit\": \"fahrenheit\"\\n}',\n",
       " '{\\n  \"location\": \"Boston, MA\",\\n  \"unit\": \"fahrenheit\"\\n}',\n",
       " '{\\n  \"location\": \"Boston, MA\",\\n  \"unit\": \"fahrenheit\"\\n}',\n",
       " '{\\n  \"location\": \"Boston, MA\",\\n  \"unit\": \"fahrenheit\"\\n}',\n",
       " '{\\n  \"location\": \"Boston, MA\",\\n  \"unit\": \"fahrenheit\"\\n}']"
      ]
     },
     "execution_count": 39,
     "metadata": {},
     "output_type": "execute_result"
    }
   ],
   "source": [
    "openai_gpt4_answers"
   ]
  },
  {
   "cell_type": "code",
   "execution_count": 40,
   "metadata": {},
   "outputs": [
    {
     "data": {
      "text/plain": [
       "['{\\n  \"location\": \"Boston, MA\",\\n  \"unit\": \"celsius\"\\n}',\n",
       " '{\\n  \"location\": \"Boston, MA\",\\n  \"unit\": \"celsius\"\\n}',\n",
       " '{\\n\"location\": \"Boston\",\\n\"unit\": \"celsius\"\\n}',\n",
       " '{\\n  \"location\": \"Boston, MA\",\\n  \"unit\": \"celsius\"\\n}',\n",
       " '{\\n\"location\": \"Boston, MA\",\\n\"unit\": \"celsius\"\\n}',\n",
       " '{\\n  \"location\": \"Boston, MA\",\\n  \"unit\": \"celsius\"\\n}',\n",
       " '{\\n  \"location\": \"Boston, MA\",\\n  \"unit\": \"celsius\"\\n}',\n",
       " '{\\n  \"location\": \"Boston\",\\n  \"unit\": \"celsius\"\\n}',\n",
       " '{\\n  \"location\": \"Boston, MA\",\\n  \"unit\": \"celsius\"\\n}',\n",
       " '{\\n\"location\": \"Boston, MA\",\\n\"unit\": \"celsius\"\\n}',\n",
       " '{\\n\"location\": \"Boston, MA\",\\n\"unit\": \"celsius\"\\n}',\n",
       " '{\\n  \"location\": \"Boston, MA\",\\n  \"unit\": \"celsius\"\\n}',\n",
       " '{\\n  \"location\": \"Boston, MA\",\\n  \"unit\": \"celsius\"\\n}',\n",
       " '{\\n  \"location\": \"Boston, MA\",\\n  \"unit\": \"celsius\"\\n}',\n",
       " '{\\n  \"location\": \"Boston, MA\",\\n  \"unit\": \"celsius\"\\n}']"
      ]
     },
     "execution_count": 40,
     "metadata": {},
     "output_type": "execute_result"
    }
   ],
   "source": [
    "openai_gpt3_5_answers"
   ]
  },
  {
   "cell_type": "code",
   "execution_count": 22,
   "metadata": {},
   "outputs": [],
   "source": [
    "### DEBUG ###\n",
    "openai_gpt3_5_times = []\n",
    "openai_gpt4_times = []\n",
    "fastassert_times = []\n",
    "\n",
    "openai_gpt3_5_answers = []\n",
    "openai_gpt4_answers = []\n",
    "fastassert_answers = []\n",
    "\n",
    "for row in inputs:\n",
    "\n",
    "    # Time FastAssert\n",
    "    start_time = time.time()\n",
    "    answer = constrained_generation(f\"What's the weather like in {row.get('location')} today? Respond with the city name and the temperature unit used in this zone. Temperature unit can only be celsius or fahrenheit. For example, a valid response is \" + '{\"location\": \"Paris\",\"unit\":\"celcius\"}', \n",
    "                                    json_obj)\n",
    "    end_time = time.time()\n",
    "    fastassert_answers.append(answer)\n",
    "    fastassert_times.append(end_time - start_time)"
   ]
  },
  {
   "cell_type": "code",
   "execution_count": 23,
   "metadata": {},
   "outputs": [
    {
     "data": {
      "text/plain": [
       "['{\"text\":[\"What\\'s the weather like in Paris today? Respond with the city name and the temperature unit used in this zone. Temperature unit can only be celsius or fahrenheit. For example, a valid response is {\\\\\"location\\\\\": \\\\\"Paris\\\\\",\\\\\"unit\\\\\":\\\\\"celcius\\\\\"}{\\\\\"location\\\\\": \\\\\"Paris\\\\\",\\\\\"unit\\\\\":\\\\\"fahrenheit\\\\\"}\"]}',\n",
       " '{\"text\":[\"What\\'s the weather like in Toronto today? Respond with the city name and the temperature unit used in this zone. Temperature unit can only be celsius or fahrenheit. For example, a valid response is {\\\\\"location\\\\\": \\\\\"Paris\\\\\",\\\\\"unit\\\\\":\\\\\"celcius\\\\\"}{\\\\\"location\\\\\": \\\\\"Toronto\\\\\",\\\\\"unit\\\\\":\\\\\"fahrenheit\\\\\"}\"]}',\n",
       " '{\"text\":[\"What\\'s the weather like in Sydney today? Respond with the city name and the temperature unit used in this zone. Temperature unit can only be celsius or fahrenheit. For example, a valid response is {\\\\\"location\\\\\": \\\\\"Paris\\\\\",\\\\\"unit\\\\\":\\\\\"celcius\\\\\"}{\\\\\"location\\\\\": \\\\\"Sydney\\\\\", \\\\\"unit\\\\\": \\\\\"celsius\\\\\"}\"]}',\n",
       " '{\"text\":[\"What\\'s the weather like in Berlin today? Respond with the city name and the temperature unit used in this zone. Temperature unit can only be celsius or fahrenheit. For example, a valid response is {\\\\\"location\\\\\": \\\\\"Paris\\\\\",\\\\\"unit\\\\\":\\\\\"celcius\\\\\"}{\\\\\"location\\\\\": \\\\\"Berlin\\\\\",\\\\\"unit\\\\\":\\\\\"fahrenheit\\\\\"}\"]}',\n",
       " '{\"text\":[\"What\\'s the weather like in Moscow today? Respond with the city name and the temperature unit used in this zone. Temperature unit can only be celsius or fahrenheit. For example, a valid response is {\\\\\"location\\\\\": \\\\\"Paris\\\\\",\\\\\"unit\\\\\":\\\\\"celcius\\\\\"}{\\\\\"location\\\\\": \\\\\"Moscow\\\\\",\\\\\"unit\\\\\":\\\\\"fahrenheit\\\\\"}\"]}',\n",
       " '{\"text\":[\"What\\'s the weather like in Rio de Janeiro today? Respond with the city name and the temperature unit used in this zone. Temperature unit can only be celsius or fahrenheit. For example, a valid response is {\\\\\"location\\\\\": \\\\\"Paris\\\\\",\\\\\"unit\\\\\":\\\\\"celcius\\\\\"}{\\\\\"location\\\\\":\\\\\"Rio de Janeiro\\\\\",\\\\\"unit\\\\\":\\\\\"fahrenheit\\\\\"}\"]}',\n",
       " '{\"text\":[\"What\\'s the weather like in Mumbai today? Respond with the city name and the temperature unit used in this zone. Temperature unit can only be celsius or fahrenheit. For example, a valid response is {\\\\\"location\\\\\": \\\\\"Paris\\\\\",\\\\\"unit\\\\\":\\\\\"celcius\\\\\"}{\\\\\"location\\\\\":\\\\\"Mumbai\\\\\",\\\\\"unit\\\\\":\\\\\"celsius\\\\\"}\"]}',\n",
       " '{\"text\":[\"What\\'s the weather like in New York, NY today? Respond with the city name and the temperature unit used in this zone. Temperature unit can only be celsius or fahrenheit. For example, a valid response is {\\\\\"location\\\\\": \\\\\"Paris\\\\\",\\\\\"unit\\\\\":\\\\\"celcius\\\\\"}{\\\\\"location\\\\\":\\\\\"New York\\\\\",\\\\\"unit\\\\\":\\\\\"fahrenheit\\\\\"}\"]}',\n",
       " '{\"text\":[\"What\\'s the weather like in London today? Respond with the city name and the temperature unit used in this zone. Temperature unit can only be celsius or fahrenheit. For example, a valid response is {\\\\\"location\\\\\": \\\\\"Paris\\\\\",\\\\\"unit\\\\\":\\\\\"celcius\\\\\"}{\\\\\"location\\\\\": \\\\\"London\\\\\",\\\\\"unit\\\\\":\\\\\"fahrenheit\\\\\"}\"]}',\n",
       " '{\"text\":[\"What\\'s the weather like in Tokyo today? Respond with the city name and the temperature unit used in this zone. Temperature unit can only be celsius or fahrenheit. For example, a valid response is {\\\\\"location\\\\\": \\\\\"Paris\\\\\",\\\\\"unit\\\\\":\\\\\"celcius\\\\\"}{\\\\\"location\\\\\":\\\\\"Tokyo\\\\\",\\\\\"unit\\\\\":\\\\\"fahrenheit\\\\\"}\"]}',\n",
       " '{\"text\":[\"What\\'s the weather like in Cairo today? Respond with the city name and the temperature unit used in this zone. Temperature unit can only be celsius or fahrenheit. For example, a valid response is {\\\\\"location\\\\\": \\\\\"Paris\\\\\",\\\\\"unit\\\\\":\\\\\"celcius\\\\\"}{\\\\\"location\\\\\":\\\\\"Cairo\\\\\",\\\\\"unit\\\\\":\\\\\"fahrenheit\\\\\"}\"]}',\n",
       " '{\"text\":[\"What\\'s the weather like in Los Angeles today? Respond with the city name and the temperature unit used in this zone. Temperature unit can only be celsius or fahrenheit. For example, a valid response is {\\\\\"location\\\\\": \\\\\"Paris\\\\\",\\\\\"unit\\\\\":\\\\\"celcius\\\\\"}{\\\\\"location\\\\\": \\\\\"Los Angeles\\\\\",\\\\\"unit\\\\\":\\\\\"fahrenheit\\\\\"}\"]}',\n",
       " '{\"text\":[\"What\\'s the weather like in Beijing today? Respond with the city name and the temperature unit used in this zone. Temperature unit can only be celsius or fahrenheit. For example, a valid response is {\\\\\"location\\\\\": \\\\\"Paris\\\\\",\\\\\"unit\\\\\":\\\\\"celcius\\\\\"}{\\\\\"location\\\\\":\\\\\"Beijing\\\\\",\\\\\"unit\\\\\":\\\\\"fahrenheit\\\\\"}\"]}',\n",
       " '{\"text\":[\"What\\'s the weather like in Cape Town today? Respond with the city name and the temperature unit used in this zone. Temperature unit can only be celsius or fahrenheit. For example, a valid response is {\\\\\"location\\\\\": \\\\\"Paris\\\\\",\\\\\"unit\\\\\":\\\\\"celcius\\\\\"}{\\\\\"location\\\\\": \\\\\"Paris\\\\\",\\\\\"unit\\\\\":\\\\\"fahrenheit\\\\\"}\"]}',\n",
       " '{\"text\":[\"What\\'s the weather like in Mexico City today? Respond with the city name and the temperature unit used in this zone. Temperature unit can only be celsius or fahrenheit. For example, a valid response is {\\\\\"location\\\\\": \\\\\"Paris\\\\\",\\\\\"unit\\\\\":\\\\\"celcius\\\\\"}{\\\\\"location\\\\\":\\\\\"Mexico City\\\\\",\\\\\"unit\\\\\":\\\\\"fahrenheit\\\\\"}\"]}']"
      ]
     },
     "execution_count": 23,
     "metadata": {},
     "output_type": "execute_result"
    }
   ],
   "source": [
    "fastassert_answers"
   ]
  },
  {
   "cell_type": "code",
   "execution_count": 18,
   "metadata": {},
   "outputs": [
    {
     "data": {
      "text/plain": [
       "['{\"text\":[\"What\\'s the weather like in Paris today? Respond with the city name and the temperature unit used in this zone.{ \\\\\"location\\\\\": \\\\\"Paris, France\\\\\", \\\\\"unit\\\\\": \\\\\"cels\"]}',\n",
       " '{\"text\":[\"What\\'s the weather like in Toronto today? Respond with the city name and the temperature unit used in this zone.{ \\\\\"location\\\\\": \\\\\"Toronto\\\\\", \\\\\"unit\\\\\": \\\\\"fahrenheit\\\\\"\"]}',\n",
       " '{\"text\":[\"What\\'s the weather like in Sydney today? Respond with the city name and the temperature unit used in this zone.{ \\\\\"location\\\\\": \\\\\"Sydney\\\\\", \\\\\"unit\\\\\": \\\\\"celsius\"]}',\n",
       " '{\"text\":[\"What\\'s the weather like in Berlin today? Respond with the city name and the temperature unit used in this zone.{ \\\\\"location\\\\\": \\\\\"Berlin\\\\\", \\\\\"unit\\\\\": \\\\\"celsius\\\\\"\"]}',\n",
       " '{\"text\":[\"What\\'s the weather like in Moscow today? Respond with the city name and the temperature unit used in this zone.{ \\\\\"location\\\\\": \\\\\"Moscow\\\\\", \\\\\"unit\\\\\": \\\\\"celsius\"]}',\n",
       " '{\"text\":[\"What\\'s the weather like in Rio de Janeiro today? Respond with the city name and the temperature unit used in this zone.{ \\\\\"location\\\\\": \\\\\"Rio de Janeiro\\\\\", \\\\\"unit\\\\\": \\\\\"c\"]}',\n",
       " '{\"text\":[\"What\\'s the weather like in Mumbai today? Respond with the city name and the temperature unit used in this zone.{\\\\n\\\\n\\\\\"location\\\\\": \\\\\"Mumbai\\\\\",\\\\n\\\\\"unit\\\\\": \\\\\"\"]}',\n",
       " '{\"text\":[\"What\\'s the weather like in New York, NY today? Respond with the city name and the temperature unit used in this zone.{ \\\\\"location\\\\\": \\\\\"New York, NY\\\\\", \\\\\"unit\\\\\": \\\\\"fahren\"]}',\n",
       " '{\"text\":[\"What\\'s the weather like in London today? Respond with the city name and the temperature unit used in this zone.{ \\\\\"location\\\\\": \\\\\"London\\\\\", \\\\\"unit\\\\\": \\\\\"celsius\\\\\" }\"]}',\n",
       " '{\"text\":[\"What\\'s the weather like in Tokyo today? Respond with the city name and the temperature unit used in this zone.{ \\\\\"location\\\\\": \\\\\"Tokyo\\\\\", \\\\\"unit\\\\\": \\\\\"celsius\\\\\"\"]}',\n",
       " '{\"text\":[\"What\\'s the weather like in Cairo today? Respond with the city name and the temperature unit used in this zone.{ \\\\\"location\\\\\": \\\\\"Cairo\\\\\", \\\\\"unit\\\\\": \\\\\"celsius\\\\\"\"]}',\n",
       " '{\"text\":[\"What\\'s the weather like in Los Angeles today? Respond with the city name and the temperature unit used in this zone.{ \\\\\"location\\\\\": \\\\\"Los Angeles\\\\\", \\\\\"unit\\\\\": \\\\\"fahrenheit\\\\\"\"]}',\n",
       " '{\"text\":[\"What\\'s the weather like in Beijing today? Respond with the city name and the temperature unit used in this zone.{\\\\n\\\\n\\\\\"location\\\\\": \\\\\"Beijing, China\\\\\",\\\\n\\\\\"unit\\\\\":\"]}',\n",
       " '{\"text\":[\"What\\'s the weather like in Cape Town today? Respond with the city name and the temperature unit used in this zone.{ \\\\\"location\\\\\": \\\\\"Cape Town\\\\\", \\\\\"unit\\\\\": \\\\\"celsius\"]}',\n",
       " '{\"text\":[\"What\\'s the weather like in Mexico City today? Respond with the city name and the temperature unit used in this zone.{\\\\\"location\\\\\":\\\\\"Mexico City\\\\\",\\\\\"unit\\\\\":\\\\\"fahrenheit\\\\\" }\"]}']"
      ]
     },
     "execution_count": 18,
     "metadata": {},
     "output_type": "execute_result"
    }
   ],
   "source": [
    "fastassert_answers"
   ]
  },
  {
   "cell_type": "code",
   "execution_count": 34,
   "metadata": {},
   "outputs": [
    {
     "name": "stdout",
     "output_type": "stream",
     "text": [
      "('{\\\\\"location\\\\\": \\\\\"Paris\\\\\",\\\\\"unit\\\\\":\\\\\"celcius\\\\\"}', False, 'Invalid JSON: Expecting property name enclosed in double quotes: line 1 column 2 (char 1)')\n",
      "('{\\\\\"location\\\\\":\\\\\"Rio de Janeiro\\\\\",\\\\\"unit\\\\\":\\\\\"fahrenheit\\\\\"}', False, 'Invalid JSON: Expecting property name enclosed in double quotes: line 1 column 2 (char 1)')\n",
      "('{\\\\\"location\\\\\":\\\\\"Mexico City\\\\\",\\\\\"unit\\\\\":\\\\\"fahrenheit\\\\\" }', False, 'Invalid JSON: Expecting property name enclosed in double quotes: line 1 column 2 (char 1)')\n"
     ]
    }
   ],
   "source": [
    "import re\n",
    "import json\n",
    "from jsonschema import validate\n",
    "from jsonschema.exceptions import ValidationError\n",
    "\n",
    "# Define the JSON schema\n",
    "schema = {\n",
    "    \"type\": \"object\",\n",
    "    \"properties\": {\n",
    "        \"location\": {\n",
    "            \"type\": \"string\",\n",
    "            \"description\": \"The city and state, e.g., San Francisco, CA\"\n",
    "        },\n",
    "        \"unit\": {\n",
    "            \"type\": \"string\",\n",
    "            \"enum\": [\"celsius\", \"fahrenheit\"],\n",
    "            \"description\": \"The temperature unit\"\n",
    "        }\n",
    "    },\n",
    "    \"required\": [\"location\", \"unit\"],\n",
    "    \"additionalProperties\": False\n",
    "}\n",
    "\n",
    "# Function to extract and validate JSON objects from text\n",
    "def extract_and_validate_json(text):\n",
    "    # Simplified regex to find JSON objects\n",
    "    json_objects = re.findall(r'\\{[^{}]*\\}', text)\n",
    "    \n",
    "    # List to hold validation results\n",
    "    validation_results = []\n",
    "    \n",
    "    for json_str in json_objects:\n",
    "        try:\n",
    "            # Parse JSON string into Python dictionary\n",
    "            json_obj = json.loads(json_str)\n",
    "            # Validate the JSON object against the schema\n",
    "            validate(instance=json_obj, schema=schema)\n",
    "            validation_results.append((json_obj, True))\n",
    "        except json.JSONDecodeError as e:\n",
    "            validation_results.append((json_str, False, f\"Invalid JSON: {e}\"))\n",
    "        except ValidationError as e:\n",
    "            validation_results.append((json_obj, False, f\"Schema validation error: {e.message}\"))\n",
    "    \n",
    "    return validation_results\n",
    "\n",
    "# Example usage with the provided input\n",
    "texts = [\n",
    "    '{\"text\":[\"What\\'s the weather like in Rio de Janeiro today? Respond with the city name and the temperature unit used in this zone. Temperature unit can only be celsius or fahrenheit. For example, a valid response is {\\\\\"location\\\\\": \\\\\"Paris\\\\\",\\\\\"unit\\\\\":\\\\\"celcius\\\\\"}{\\\\\"location\\\\\":\\\\\"Rio de Janeiro\\\\\",\\\\\"unit\\\\\":\\\\\"fahrenheit\\\\\"}\"]}',\n",
    "    '{\"text\":[\"What\\'s the weather like in Mexico City today? Respond with the city name and the temperature unit used in this zone.{\\\\\"location\\\\\":\\\\\"Mexico City\\\\\",\\\\\"unit\\\\\":\\\\\"fahrenheit\\\\\" }\"]}'\n",
    "]\n",
    "\n",
    "for text in texts:\n",
    "    results = extract_and_validate_json(text)\n",
    "    for result in results:\n",
    "        print(result)\n"
   ]
  },
  {
   "cell_type": "code",
   "execution_count": 37,
   "metadata": {},
   "outputs": [
    {
     "name": "stdout",
     "output_type": "stream",
     "text": [
      "JSON is valid.\n"
     ]
    }
   ],
   "source": [
    "import json\n",
    "from jsonschema import validate, ValidationError\n",
    "\n",
    "# The escaped JSON string\n",
    "escaped_json_string = r'{\\\\\"location\\\\\": \\\\\"Paris\\\\\",\\\\\"unit\\\\\":\\\\\"fahrenheit\\\\\"}'\n",
    "\n",
    "# Step 1: Unescape the string\n",
    "# Decode the escaped string to get the actual JSON string\n",
    "json_string = escaped_json_string.replace(r'\\\\\"', '\"')\n",
    "\n",
    "# Step 2: Parse the JSON string into a Python dictionary\n",
    "json_obj = json.loads(json_string)\n",
    "\n",
    "# Define the JSON schema for validation\n",
    "schema = {\n",
    "    \"type\": \"object\",\n",
    "    \"properties\": {\n",
    "        \"location\": {\n",
    "            \"type\": \"string\",\n",
    "            \"description\": \"The city and state, e.g., San Francisco, CA\"\n",
    "        },\n",
    "        \"unit\": {\n",
    "            \"type\": \"string\",\n",
    "            \"enum\": [\"celsius\", \"fahrenheit\"],\n",
    "            \"description\": \"The temperature unit\"\n",
    "        }\n",
    "    },\n",
    "    \"required\": [\"location\", \"unit\"],\n",
    "    \"additionalProperties\": False\n",
    "}\n",
    "\n",
    "# Step 3: Validate the JSON object against the schema\n",
    "try:\n",
    "    validate(instance=json_obj, schema=schema)\n",
    "    print(\"JSON is valid.\")\n",
    "except ValidationError as e:\n",
    "    print(f\"JSON is invalid: {e.message}\")\n"
   ]
  },
  {
   "cell_type": "code",
   "execution_count": 39,
   "metadata": {},
   "outputs": [
    {
     "data": {
      "text/plain": [
       "True"
      ]
     },
     "execution_count": 39,
     "metadata": {},
     "output_type": "execute_result"
    }
   ],
   "source": [
    "validate_json(r'{\\\\\"location\\\\\": \\\\\"Paris\\\\\",\\\\\"unit\\\\\":\\\\\"fahrenheit\\\\\"}', json_obj)"
   ]
  },
  {
   "cell_type": "code",
   "execution_count": 43,
   "metadata": {},
   "outputs": [
    {
     "data": {
      "text/plain": [
       "True"
      ]
     },
     "execution_count": 43,
     "metadata": {},
     "output_type": "execute_result"
    }
   ],
   "source": [
    "validate_openai_json(r'{\\n  \"location\": \"Boston, MA\",\\n  \"unit\": \"celsius\"\\n}', json_obj)"
   ]
  },
  {
   "cell_type": "code",
   "execution_count": null,
   "metadata": {},
   "outputs": [],
   "source": []
  }
 ],
 "metadata": {
  "kernelspec": {
   "display_name": "Python (notebookenv)",
   "language": "python",
   "name": "notebookenv"
  },
  "language_info": {
   "codemirror_mode": {
    "name": "ipython",
    "version": 3
   },
   "file_extension": ".py",
   "mimetype": "text/x-python",
   "name": "python",
   "nbconvert_exporter": "python",
   "pygments_lexer": "ipython3",
   "version": "3.11.7"
  }
 },
 "nbformat": 4,
 "nbformat_minor": 4
}
