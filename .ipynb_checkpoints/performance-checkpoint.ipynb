{
 "cells": [
  {
   "cell_type": "markdown",
   "metadata": {},
   "source": [
    "# Performance comparision between FastAssert and the OpenAI API\n",
    "\n",
    "In this notebook, we are going to quantify the gains in term of latency of using FastAssert to generate structured JSON outputs comapred to OpenAI function calling. We will also check that we keep the same level of quality in term of JSON structure and JSON content.\n",
    "\n",
    "Cost are not covered as they depend on the setup to run FastAssert, but one can agree running FastAssert is cheaper than the OpenAI API by several orders of magnitude\n",
    "\n",
    "For the purpose of this demonstration, we will use OpenAI's own [function calling example](https://platform.openai.com/docs/api-reference/chat/create) (select `Function`on the right) : Text a user prompt asking for the current weather in a city, respond with a structured output containing the name of the city, and the guessed temperature unit in this zone."
   ]
  },
  {
   "cell_type": "code",
   "execution_count": 96,
   "metadata": {},
   "outputs": [
    {
     "name": "stdout",
     "output_type": "stream",
     "text": [
      "This demo will be runned on 14 examples\n",
      "Prompts are variations of this one: What's the weather like in Paris today? Temperature unit can only be celsius or fahrenheit. For example, a valid response is {\\\"location\\\": \\\"Paris\\\",\\\"unit\\\":\\\"celsius\\\"}. Respond with the city name and the temperature unit used in this zone in this format.\n"
     ]
    }
   ],
   "source": [
    "# The structure we are expecting\n",
    "json_obj = {\n",
    "  \"type\": \"object\",\n",
    "  \"properties\": {\n",
    "    \"location\": {\n",
    "      \"type\": \"string\",\n",
    "      \"description\": \"The city and state, e.g., San Francisco, CA\"\n",
    "    },\n",
    "    \"unit\": {\n",
    "      \"type\": \"string\",\n",
    "      \"enum\": [\"celsius\", \"fahrenheit\"],\n",
    "      \"description\": \"The temperature unit\"\n",
    "    }\n",
    "  },\n",
    "  \"required\": [\"location\", \"unit\"],\n",
    "  \"additionalProperties\": False\n",
    "}\n",
    "\n",
    "# A list of inputs to test the project, that will be formated in text prompts before being passed to the constrained LLMs\n",
    "# For notebook visibility purposes, we put them in a compact format\n",
    "inputs = [{\"location\": \"Paris\", \"unit\": \"celsius\"},{\"location\": \"Toronto\", \"unit\": \"fahrenheit\"}, {\"location\": \"Sydney\", \"unit\": \"celsius\"}, {\"location\": \"Berlin\", \"unit\": \"celsius\"}, {\"location\": \"Moscow\", \"unit\": \"celsius\"}, {\"location\": \"Mumbai\", \"unit\": \"celsius\"}, {\"location\": \"New York, NY\", \"unit\": \"fahrenheit\"}, {\"location\": \"London\", \"unit\": \"celsius\"}, {\"location\": \"Tokyo\", \"unit\": \"celsius\"}, {\"location\": \"Cairo\", \"unit\": \"celsius\"}, {\"location\": \"Los Angeles\", \"unit\": \"fahrenheit\"}, {\"location\": \"Beijing\", \"unit\": \"celsius\"}, {\"location\": \"Cape Town\", \"unit\": \"celsius\"}, {\"location\": \"Mexico City\", \"unit\": \"celsius\"}]\n",
    "print(f\"This demo will be runned on {len(inputs)} examples\")\n",
    "\n",
    "# Build the prompts using these inputs\n",
    "# Prepare one example for the model\n",
    "example = \"For example, a valid response is \" + '{\\\\\"location\\\\\": \\\\\"Paris\\\\\",\\\\\"unit\\\\\":\\\\\"celsius\\\\\"}.'\n",
    "prompts = []\n",
    "for input in inputs:\n",
    "    prompts.append(f\"What's the weather like in {input.get('location')} today? Temperature unit can only be celsius or fahrenheit. \" + example + \" Respond with the city name and the temperature unit used in this zone in this format.\")\n",
    "\n",
    "print(f\"Prompts are variations of this one: {prompts[0]}\")"
   ]
  },
  {
   "cell_type": "markdown",
   "metadata": {},
   "source": [
    "## Installation and Setup\n",
    "\n",
    "Make sure you are using the right kernel (`notebookenv`)"
   ]
  },
  {
   "cell_type": "code",
   "execution_count": 2,
   "metadata": {},
   "outputs": [
    {
     "name": "stdout",
     "output_type": "stream",
     "text": [
      "Requirement already satisfied: requests in /opt/conda/envs/notebookenv/lib/python3.11/site-packages (2.31.0)\n",
      "Requirement already satisfied: openai in /opt/conda/envs/notebookenv/lib/python3.11/site-packages (1.12.0)\n",
      "Requirement already satisfied: charset-normalizer<4,>=2 in /opt/conda/envs/notebookenv/lib/python3.11/site-packages (from requests) (3.3.2)\n",
      "Requirement already satisfied: idna<4,>=2.5 in /opt/conda/envs/notebookenv/lib/python3.11/site-packages (from requests) (3.6)\n",
      "Requirement already satisfied: urllib3<3,>=1.21.1 in /opt/conda/envs/notebookenv/lib/python3.11/site-packages (from requests) (2.2.0)\n",
      "Requirement already satisfied: certifi>=2017.4.17 in /opt/conda/envs/notebookenv/lib/python3.11/site-packages (from requests) (2024.2.2)\n",
      "Requirement already satisfied: anyio<5,>=3.5.0 in /opt/conda/envs/notebookenv/lib/python3.11/site-packages (from openai) (4.2.0)\n",
      "Requirement already satisfied: distro<2,>=1.7.0 in /opt/conda/envs/notebookenv/lib/python3.11/site-packages (from openai) (1.9.0)\n",
      "Requirement already satisfied: httpx<1,>=0.23.0 in /opt/conda/envs/notebookenv/lib/python3.11/site-packages (from openai) (0.26.0)\n",
      "Requirement already satisfied: pydantic<3,>=1.9.0 in /opt/conda/envs/notebookenv/lib/python3.11/site-packages (from openai) (2.6.1)\n",
      "Requirement already satisfied: sniffio in /opt/conda/envs/notebookenv/lib/python3.11/site-packages (from openai) (1.3.0)\n",
      "Requirement already satisfied: tqdm>4 in /opt/conda/envs/notebookenv/lib/python3.11/site-packages (from openai) (4.66.2)\n",
      "Requirement already satisfied: typing-extensions<5,>=4.7 in /opt/conda/envs/notebookenv/lib/python3.11/site-packages (from openai) (4.9.0)\n",
      "Requirement already satisfied: httpcore==1.* in /opt/conda/envs/notebookenv/lib/python3.11/site-packages (from httpx<1,>=0.23.0->openai) (1.0.3)\n",
      "Requirement already satisfied: h11<0.15,>=0.13 in /opt/conda/envs/notebookenv/lib/python3.11/site-packages (from httpcore==1.*->httpx<1,>=0.23.0->openai) (0.14.0)\n",
      "Requirement already satisfied: annotated-types>=0.4.0 in /opt/conda/envs/notebookenv/lib/python3.11/site-packages (from pydantic<3,>=1.9.0->openai) (0.6.0)\n",
      "Requirement already satisfied: pydantic-core==2.16.2 in /opt/conda/envs/notebookenv/lib/python3.11/site-packages (from pydantic<3,>=1.9.0->openai) (2.16.2)\n"
     ]
    }
   ],
   "source": [
    "!pip install requests openai"
   ]
  },
  {
   "cell_type": "code",
   "execution_count": 25,
   "metadata": {},
   "outputs": [],
   "source": [
    "import os\n",
    "\n",
    "# Setup the OpenAI client\n",
    "from openai import OpenAI\n",
    "\n",
    "client = OpenAI(\n",
    "    # This is the default and can be omitted\n",
    "    api_key=os.environ.get(\"OPENAI_API_KEY\"),\n",
    ")\n",
    "\n",
    "# Create the function to generate structured output using OpenAI\n",
    "def openai_constrained_generation(prompt: str, json_schema, model_name=\"gpt-3.5-turbo\"):\n",
    "\n",
    "    tools = [\n",
    "      {\n",
    "        \"type\": \"function\",\n",
    "        \"function\": {\n",
    "          \"name\": \"get_current_weather\",\n",
    "          \"description\": \"Get the current weather in a given location\",\n",
    "          \"parameters\": json_obj,\n",
    "        }\n",
    "      }\n",
    "    ]\n",
    "    messages = [{\"role\": \"user\", \"content\": prompt}]\n",
    "    completion = client.chat.completions.create(\n",
    "      model=model_name,\n",
    "      messages=messages,\n",
    "      tools=tools,\n",
    "      tool_choice={\"type\": \"function\", \"function\": {\"name\": \"get_current_weather\"}},\n",
    "      temperature=0\n",
    "    )\n",
    "\n",
    "    return completion.choices[0].message.tool_calls[0].function.arguments"
   ]
  },
  {
   "cell_type": "code",
   "execution_count": 63,
   "metadata": {},
   "outputs": [
    {
     "data": {
      "text/plain": [
       "'{\\n  \"location\": \"Boston, MA\",\\n  \"unit\": \"celsius\"\\n}'"
      ]
     },
     "execution_count": 63,
     "metadata": {},
     "output_type": "execute_result"
    }
   ],
   "source": [
    "# Let's try it out\n",
    "openai_constrained_generation(\"What's the weather like in Boston today? Respond with the city name and the temperature unit used in this zone. Temperature unit can only be celsius or fahrenheit.\" + example, json_obj)\n"
   ]
  },
  {
   "cell_type": "markdown",
   "metadata": {},
   "source": [
    "## Connect and test our FastAssert server\n",
    "Make sure the docker container is running and can serve requests."
   ]
  },
  {
   "cell_type": "code",
   "execution_count": 64,
   "metadata": {},
   "outputs": [
    {
     "name": "stdout",
     "output_type": "stream",
     "text": [
      "Server is up and running!\n"
     ]
    }
   ],
   "source": [
    "import requests\n",
    "import time\n",
    "\n",
    "BASE_URL = \"http://127.0.0.1:8000\"\n",
    "\n",
    "# Ping the server\n",
    "ping_response = requests.get(f\"{BASE_URL}/health\")\n",
    "\n",
    "# Check if the request was successful\n",
    "if ping_response.status_code == 200:\n",
    "    print(\"Server is up and running!\")\n",
    "else:\n",
    "    raise ValueError(f\"Failed to reach the server, status code: {ping_response.status_code}\")"
   ]
  },
  {
   "cell_type": "code",
   "execution_count": 55,
   "metadata": {},
   "outputs": [],
   "source": [
    "import json\n",
    "# Create the json LLM generation\n",
    "def constrained_generation(prompt: str, json_schema):\n",
    "\n",
    "    url = f\"{BASE_URL}/generate\"\n",
    "    payload = {\n",
    "        \"prompt\": prompt,\n",
    "        \"schema\": json_schema,\n",
    "        \"temperature\": 0\n",
    "    }\n",
    "\n",
    "    response = requests.post(url, json=payload)\n",
    "    parsed_response = json.loads(response.text)\n",
    "\n",
    "    prompt_and_llm_answer = parsed_response['text'][0]\n",
    "\n",
    "    # Remove the input text, as it is returned completed with the answer\n",
    "    llm_answer = prompt_and_llm_answer[len(prompt):]\n",
    "\n",
    "    return llm_answer"
   ]
  },
  {
   "cell_type": "code",
   "execution_count": 57,
   "metadata": {},
   "outputs": [
    {
     "data": {
      "text/plain": [
       "'{\"location\": \"Boston\",\"unit\":\"fahrenheit\"}'"
      ]
     },
     "execution_count": 57,
     "metadata": {},
     "output_type": "execute_result"
    }
   ],
   "source": [
    "# Let's try our FastAssert server\n",
    "constrained_generation(\"What's the weather like in Boston today? Respond with the city name and the temperature unit used in this zone. Temperature unit can only be celsius or fahrenheit.\" + instruction, json_obj)\n"
   ]
  },
  {
   "cell_type": "markdown",
   "metadata": {},
   "source": [
    "## Let's benchmark the two methods\n",
    "\n",
    "We will run on the input list 3 constrained generation models :\n",
    "- OpenAI `gpt-3.5-turbo` with function call\n",
    "- OpenAI `gpt-4` with function call\n",
    "- our FastAssert server running a constrained `Mistral-7B-v0.2`\n",
    "\n",
    "### Running the models"
   ]
  },
  {
   "cell_type": "code",
   "execution_count": 99,
   "metadata": {},
   "outputs": [],
   "source": [
    "openai_gpt3_5_times = []\n",
    "openai_gpt4_times = []\n",
    "fastassert_times = []\n",
    "\n",
    "openai_gpt3_5_answers = []\n",
    "openai_gpt4_answers = []\n",
    "fastassert_answers = []\n",
    "\n",
    "# We use the exact same prompt for each model\n",
    "for prompt in prompts:\n",
    "    # Time OpenAI gpt-3.5-turbo\n",
    "    start_time = time.time()\n",
    "    answer = openai_constrained_generation(prompt, json_obj)\n",
    "    end_time = time.time()\n",
    "    openai_gpt3_5_answers.append(answer)\n",
    "    openai_gpt3_5_times.append(end_time - start_time)\n",
    "\n",
    "    # Time OpenAI gpt-4\n",
    "    start_time = time.time()\n",
    "    answer = openai_constrained_generation(prompt, json_obj, model_name=\"gpt-4\")\n",
    "    end_time = time.time()\n",
    "    openai_gpt4_answers.append(answer)\n",
    "    openai_gpt4_times.append(end_time - start_time)\n",
    "\n",
    "    # Time FastAssert\n",
    "    start_time = time.time()\n",
    "    answer = constrained_generation(prompt + instruction, json_obj)\n",
    "    end_time = time.time()\n",
    "    fastassert_answers.append(answer)\n",
    "    fastassert_times.append(end_time - start_time)"
   ]
  },
  {
   "cell_type": "code",
   "execution_count": 97,
   "metadata": {},
   "outputs": [],
   "source": [
    "## DEBUG\n",
    "\n",
    "fastassert_times = []\n",
    "\n",
    "fastassert_answers = []\n",
    "\n",
    "# We use the exact same prompt for each model\n",
    "for prompt in prompts:\n",
    "\n",
    "    # Time FastAssert\n",
    "    start_time = time.time()\n",
    "    answer = constrained_generation(prompt + instruction, json_obj)\n",
    "    end_time = time.time()\n",
    "    fastassert_answers.append(answer)\n",
    "    fastassert_times.append(end_time - start_time)"
   ]
  },
  {
   "cell_type": "markdown",
   "metadata": {},
   "source": [
    "### Assessing the results\n",
    "\n",
    "#### Latency"
   ]
  },
  {
   "cell_type": "code",
   "execution_count": 20,
   "metadata": {},
   "outputs": [
    {
     "name": "stdout",
     "output_type": "stream",
     "text": [
      "Collecting matplotlib\n",
      "  Downloading matplotlib-3.8.3-cp311-cp311-manylinux_2_17_x86_64.manylinux2014_x86_64.whl.metadata (5.8 kB)\n",
      "Collecting numpy\n",
      "  Downloading numpy-1.26.4-cp311-cp311-manylinux_2_17_x86_64.manylinux2014_x86_64.whl.metadata (61 kB)\n",
      "\u001b[2K     \u001b[90m━━━━━━━━━━━━━━━━━━━━━━━━━━━━━━━━━━━━━━━━\u001b[0m \u001b[32m61.0/61.0 kB\u001b[0m \u001b[31m5.7 MB/s\u001b[0m eta \u001b[36m0:00:00\u001b[0m\n",
      "\u001b[?25hCollecting contourpy>=1.0.1 (from matplotlib)\n",
      "  Downloading contourpy-1.2.0-cp311-cp311-manylinux_2_17_x86_64.manylinux2014_x86_64.whl.metadata (5.8 kB)\n",
      "Collecting cycler>=0.10 (from matplotlib)\n",
      "  Downloading cycler-0.12.1-py3-none-any.whl.metadata (3.8 kB)\n",
      "Collecting fonttools>=4.22.0 (from matplotlib)\n",
      "  Downloading fonttools-4.49.0-cp311-cp311-manylinux_2_17_x86_64.manylinux2014_x86_64.whl.metadata (159 kB)\n",
      "\u001b[2K     \u001b[90m━━━━━━━━━━━━━━━━━━━━━━━━━━━━━━━━━━━━━━\u001b[0m \u001b[32m159.1/159.1 kB\u001b[0m \u001b[31m19.4 MB/s\u001b[0m eta \u001b[36m0:00:00\u001b[0m\n",
      "\u001b[?25hCollecting kiwisolver>=1.3.1 (from matplotlib)\n",
      "  Downloading kiwisolver-1.4.5-cp311-cp311-manylinux_2_17_x86_64.manylinux2014_x86_64.whl.metadata (6.4 kB)\n",
      "Requirement already satisfied: packaging>=20.0 in /opt/conda/envs/notebookenv/lib/python3.11/site-packages (from matplotlib) (23.2)\n",
      "Collecting pillow>=8 (from matplotlib)\n",
      "  Downloading pillow-10.2.0-cp311-cp311-manylinux_2_28_x86_64.whl.metadata (9.7 kB)\n",
      "Collecting pyparsing>=2.3.1 (from matplotlib)\n",
      "  Downloading pyparsing-3.1.1-py3-none-any.whl.metadata (5.1 kB)\n",
      "Requirement already satisfied: python-dateutil>=2.7 in /opt/conda/envs/notebookenv/lib/python3.11/site-packages (from matplotlib) (2.8.2)\n",
      "Requirement already satisfied: six>=1.5 in /opt/conda/envs/notebookenv/lib/python3.11/site-packages (from python-dateutil>=2.7->matplotlib) (1.16.0)\n",
      "Downloading matplotlib-3.8.3-cp311-cp311-manylinux_2_17_x86_64.manylinux2014_x86_64.whl (11.6 MB)\n",
      "\u001b[2K   \u001b[90m━━━━━━━━━━━━━━━━━━━━━━━━━━━━━━━━━━━━━━━━\u001b[0m \u001b[32m11.6/11.6 MB\u001b[0m \u001b[31m103.3 MB/s\u001b[0m eta \u001b[36m0:00:00\u001b[0m00:01\u001b[0m0:01\u001b[0m\n",
      "\u001b[?25hDownloading numpy-1.26.4-cp311-cp311-manylinux_2_17_x86_64.manylinux2014_x86_64.whl (18.3 MB)\n",
      "\u001b[2K   \u001b[90m━━━━━━━━━━━━━━━━━━━━━━━━━━━━━━━━━━━━━━━━\u001b[0m \u001b[32m18.3/18.3 MB\u001b[0m \u001b[31m117.1 MB/s\u001b[0m eta \u001b[36m0:00:00\u001b[0m00:01\u001b[0m00:01\u001b[0m\n",
      "\u001b[?25hDownloading contourpy-1.2.0-cp311-cp311-manylinux_2_17_x86_64.manylinux2014_x86_64.whl (313 kB)\n",
      "\u001b[2K   \u001b[90m━━━━━━━━━━━━━━━━━━━━━━━━━━━━━━━━━━━━━━━━\u001b[0m \u001b[32m313.4/313.4 kB\u001b[0m \u001b[31m46.3 MB/s\u001b[0m eta \u001b[36m0:00:00\u001b[0m\n",
      "\u001b[?25hDownloading cycler-0.12.1-py3-none-any.whl (8.3 kB)\n",
      "Downloading fonttools-4.49.0-cp311-cp311-manylinux_2_17_x86_64.manylinux2014_x86_64.whl (4.9 MB)\n",
      "\u001b[2K   \u001b[90m━━━━━━━━━━━━━━━━━━━━━━━━━━━━━━━━━━━━━━━━\u001b[0m \u001b[32m4.9/4.9 MB\u001b[0m \u001b[31m130.7 MB/s\u001b[0m eta \u001b[36m0:00:00\u001b[0m00:01\u001b[0m\n",
      "\u001b[?25hDownloading kiwisolver-1.4.5-cp311-cp311-manylinux_2_17_x86_64.manylinux2014_x86_64.whl (1.4 MB)\n",
      "\u001b[2K   \u001b[90m━━━━━━━━━━━━━━━━━━━━━━━━━━━━━━━━━━━━━━━━\u001b[0m \u001b[32m1.4/1.4 MB\u001b[0m \u001b[31m111.8 MB/s\u001b[0m eta \u001b[36m0:00:00\u001b[0m\n",
      "\u001b[?25hDownloading pillow-10.2.0-cp311-cp311-manylinux_2_28_x86_64.whl (4.5 MB)\n",
      "\u001b[2K   \u001b[90m━━━━━━━━━━━━━━━━━━━━━━━━━━━━━━━━━━━━━━━━\u001b[0m \u001b[32m4.5/4.5 MB\u001b[0m \u001b[31m117.2 MB/s\u001b[0m eta \u001b[36m0:00:00\u001b[0m00:01\u001b[0m\n",
      "\u001b[?25hDownloading pyparsing-3.1.1-py3-none-any.whl (103 kB)\n",
      "\u001b[2K   \u001b[90m━━━━━━━━━━━━━━━━━━━━━━━━━━━━━━━━━━━━━━━━\u001b[0m \u001b[32m103.1/103.1 kB\u001b[0m \u001b[31m21.2 MB/s\u001b[0m eta \u001b[36m0:00:00\u001b[0m\n",
      "\u001b[?25hInstalling collected packages: pyparsing, pillow, numpy, kiwisolver, fonttools, cycler, contourpy, matplotlib\n",
      "Successfully installed contourpy-1.2.0 cycler-0.12.1 fonttools-4.49.0 kiwisolver-1.4.5 matplotlib-3.8.3 numpy-1.26.4 pillow-10.2.0 pyparsing-3.1.1\n"
     ]
    }
   ],
   "source": [
    "!pip install matplotlib numpy"
   ]
  },
  {
   "cell_type": "code",
   "execution_count": 100,
   "metadata": {},
   "outputs": [
    {
     "name": "stdout",
     "output_type": "stream",
     "text": [
      "Completion times:\n",
      "OpenAI GPT-3.5 Mean: 0.8534583875111171 s, Standard Deviation: 0.18086406864731974\n",
      "OpenAI GPT-4 Mean: 1.1603457927703857 s, Standard Deviation: 0.2482123538585998\n",
      "FastAssert Mean: 0.2983722516468593 s, Standard Deviation: 0.01182277109689749\n"
     ]
    }
   ],
   "source": [
    "import statistics\n",
    "\n",
    "# Assuming inputs are defined and the above loop code has been executed\n",
    "\n",
    "# Calculate mean and standard deviation for OpenAI GPT-3.5 times\n",
    "mean_gpt3_5 = statistics.mean(openai_gpt3_5_times)\n",
    "std_dev_gpt3_5 = statistics.stdev(openai_gpt3_5_times)\n",
    "\n",
    "# Calculate mean and standard deviation for OpenAI GPT-4 times\n",
    "mean_gpt4 = statistics.mean(openai_gpt4_times)\n",
    "std_dev_gpt4 = statistics.stdev(openai_gpt4_times)\n",
    "\n",
    "# Calculate mean and standard deviation for FastAssert times\n",
    "mean_fastassert = statistics.mean(fastassert_times)\n",
    "std_dev_fastassert = statistics.stdev(fastassert_times)\n",
    "\n",
    "# Print the results\n",
    "print(\"Completion times:\")\n",
    "print(f\"OpenAI GPT-3.5 Mean: {mean_gpt3_5} s, Standard Deviation: {std_dev_gpt3_5}\")\n",
    "print(f\"OpenAI GPT-4 Mean: {mean_gpt4} s, Standard Deviation: {std_dev_gpt4}\")\n",
    "print(f\"FastAssert Mean: {mean_fastassert} s, Standard Deviation: {std_dev_fastassert}\")"
   ]
  },
  {
   "cell_type": "code",
   "execution_count": 101,
   "metadata": {},
   "outputs": [
    {
     "data": {
      "text/plain": [
       "<matplotlib.legend.Legend at 0x7fc687a2e210>"
      ]
     },
     "execution_count": 101,
     "metadata": {},
     "output_type": "execute_result"
    },
    {
     "data": {
      "image/png": "[encoded data removed]",
      "text/plain": [
       "<Figure size 640x480 with 1 Axes>"
      ]
     },
     "metadata": {},
     "output_type": "display_data"
    }
   ],
   "source": [
    "import matplotlib.pyplot as plt\n",
    "import numpy as np\n",
    "\n",
    "# Data\n",
    "labels = ['GPT-3.5', 'GPT-4', 'FastAssert']\n",
    "means = [np.mean(openai_gpt3_5_times), np.mean(openai_gpt4_times), np.mean(fastassert_times)]\n",
    "std_devs = [np.std(openai_gpt3_5_times), np.std(openai_gpt4_times), np.std(fastassert_times)]\n",
    "\n",
    "x = np.arange(len(labels))  # the label locations\n",
    "width = 0.35  # the width of the bars\n",
    "\n",
    "fig, ax = plt.subplots()\n",
    "rects1 = ax.bar(x, means, width, label='Mean', yerr=std_devs, capsize=5)\n",
    "\n",
    "# Add some text for labels, title and custom x-axis tick labels, etc.\n",
    "ax.set_ylabel('Times in seconds')\n",
    "ax.set_title('Completion times by model')\n",
    "ax.set_xticks(x)\n",
    "ax.set_xticklabels(labels)\n",
    "ax.legend()"
   ]
  },
  {
   "cell_type": "markdown",
   "metadata": {},
   "source": [
    "#### Validation errors"
   ]
  },
  {
   "cell_type": "code",
   "execution_count": 102,
   "metadata": {},
   "outputs": [],
   "source": [
    "import json\n",
    "from jsonschema import validate, ValidationError\n",
    "\n",
    "def validate_openai_json(text, schema):\n",
    "    # Step 1: Unescape the string\n",
    "    # Decode the escaped string to get the actual JSON string\n",
    "    json_string = text.replace(r'\\n', '')\n",
    "    \n",
    "    # Step 2: Parse the JSON string into a Python dictionary\n",
    "    json_obj = json.loads(json_string)\n",
    "\n",
    "    # Step 3: Validate the JSON object against the schema\n",
    "    try:\n",
    "        validate(instance=json_obj, schema=schema)\n",
    "        return True\n",
    "    except ValidationError as e:\n",
    "        return False\n",
    "    \n",
    "def validate_fastassert_json(text, schema):\n",
    "    try:\n",
    "        # Load the JSON\n",
    "        json_obj = json.loads(text)\n",
    "        # Validate the JSON object against the schema\n",
    "        validate(instance=json_obj, schema=schema)\n",
    "        return True\n",
    "    except Exception as e:\n",
    "        return False\n"
   ]
  },
  {
   "cell_type": "code",
   "execution_count": 104,
   "metadata": {},
   "outputs": [
    {
     "name": "stdout",
     "output_type": "stream",
     "text": [
      "OpenAI GPT-3.5 validation error rate: 0.0\n",
      "OpenAI GPT-4 validation error rate: 0.0\n",
      "Fastassert validation error rate: 0.0\n"
     ]
    }
   ],
   "source": [
    "openai_gpt3_5_validations = []\n",
    "openai_gpt4_validations = []\n",
    "fastassert_validations = []\n",
    "\n",
    "for answer in openai_gpt3_5_answers:\n",
    "    if validate_openai_json(answer, json_obj):\n",
    "        openai_gpt3_5_validations.append(1)\n",
    "    else:\n",
    "        openai_gpt3_5_validations.append(0)\n",
    "\n",
    "for answer in openai_gpt4_answers:\n",
    "    if validate_openai_json(answer, json_obj):\n",
    "        openai_gpt4_validations.append(1)\n",
    "    else:\n",
    "        openai_gpt4_validations.append(0)\n",
    "\n",
    "for answer in fastassert_answers:\n",
    "    if validate_fastassert_json(answer, json_obj):\n",
    "        fastassert_validations.append(1)\n",
    "    else:\n",
    "        fastassert_validations.append(0)\n",
    "\n",
    "print(f\"OpenAI GPT-3.5 validation error rate: {1- sum(openai_gpt3_5_validations)/len(openai_gpt3_5_validations)}\")\n",
    "print(f\"OpenAI GPT-4 validation error rate: {1- sum(openai_gpt4_validations)/len(openai_gpt4_validations)}\")\n",
    "print(f\"Fastassert validation error rate: {1- sum(fastassert_validations)/len(fastassert_validations)}\")"
   ]
  },
  {
   "cell_type": "markdown",
   "metadata": {},
   "source": [
    "### Check the extracted data\n",
    "\n",
    "The hardest part of the task is infering the commonly used temperature unit. We will check the success accuracy of the several models on this task"
   ]
  },
  {
   "cell_type": "code",
   "execution_count": 131,
   "metadata": {},
   "outputs": [],
   "source": [
    "def compute_accuracy(inputs, answers):\n",
    "\n",
    "    results = []\n",
    "\n",
    "    for i in range(0, len(inputs)):\n",
    "        input = inputs[i]\n",
    "        answer = answers[i]\n",
    "\n",
    "        answer = answer.replace(r'\\n', '')\n",
    "\n",
    "        #try:\n",
    "        # Load the json object\n",
    "        json_obj = json.loads(answer)\n",
    "\n",
    "        # Check the \"unit\" key against the input label\n",
    "        if input[\"unit\"] == json_obj[\"unit\"]:\n",
    "            results.append(1)\n",
    "        else:\n",
    "            results.append(0)\n",
    "        #except Exception as e:\n",
    "        #    results.append(0)\n",
    "\n",
    "    return sum(results)/len(results)"
   ]
  },
  {
   "cell_type": "code",
   "execution_count": 133,
   "metadata": {},
   "outputs": [
    {
     "name": "stdout",
     "output_type": "stream",
     "text": [
      "GPT3-5 turbo accuracy 0.7857142857142857\n",
      "GPT4 accuracy 0.9285714285714286\n",
      "FastAssert accuracy 0.7857142857142857\n",
      "\n",
      "FastAssert achieved the same accuracy as GPT3-5 turbo on this extraction task!\n"
     ]
    }
   ],
   "source": [
    "compute_accuracy(inputs, fastassert_answers)\n",
    "\n",
    "print(f\"GPT3-5 turbo accuracy {compute_accuracy(inputs, openai_gpt3_5_answers)}\")\n",
    "print(f\"GPT4 accuracy {compute_accuracy(inputs, openai_gpt4_answers)}\")\n",
    "print(f\"FastAssert accuracy {compute_accuracy(inputs, fastassert_answers)}\")\n",
    "print(\"\")\n",
    "\n",
    "if compute_accuracy(inputs, openai_gpt3_5_answers) <= compute_accuracy(inputs, fastassert_answers):\n",
    "    print(\"FastAssert achieved the same accuracy as GPT3-5 turbo on this extraction task!\")"
   ]
  }
 ],
 "metadata": {
  "kernelspec": {
   "display_name": "Python (notebookenv)",
   "language": "python",
   "name": "notebookenv"
  },
  "language_info": {
   "codemirror_mode": {
    "name": "ipython",
    "version": 3
   },
   "file_extension": ".py",
   "mimetype": "text/x-python",
   "name": "python",
   "nbconvert_exporter": "python",
   "pygments_lexer": "ipython3",
   "version": "3.11.8"
  }
 },
 "nbformat": 4,
 "nbformat_minor": 4
}
